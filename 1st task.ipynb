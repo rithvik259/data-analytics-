{
 "cells": [
  {
   "cell_type": "code",
   "execution_count": 1,
   "id": "7951014b-6f45-41d0-affe-da06c95f250b",
   "metadata": {},
   "outputs": [
    {
     "name": "stdout",
     "output_type": "stream",
     "text": [
      "4.0.0\n"
     ]
    }
   ],
   "source": [
    "import pyspark\n",
    "print(pyspark.__version__)"
   ]
  },
  {
   "cell_type": "code",
   "execution_count": 2,
   "id": "b78dadf7-b7b8-4b77-abab-b3868779baa1",
   "metadata": {},
   "outputs": [],
   "source": [
    "from pyspark.sql import SparkSession"
   ]
  },
  {
   "cell_type": "code",
   "execution_count": 3,
   "id": "659f7306-a7ea-4625-8acd-d5057016bbe5",
   "metadata": {},
   "outputs": [],
   "source": [
    "from pyspark.sql.functions import col, sum as _sum, avg, count, month, year"
   ]
  },
  {
   "cell_type": "code",
   "execution_count": 4,
   "id": "1dd1dad5-ac12-4bc9-a2dc-401bc1ba4099",
   "metadata": {},
   "outputs": [],
   "source": [
    "# Create Spark session\n",
    "spark = SparkSession.builder \\\n",
    ".appName(\"CustomerTransactionAnalysis\") \\\n",
    ".getOrCreate()"
   ]
  },
  {
   "cell_type": "code",
   "execution_count": 13,
   "id": "cdd7cc4e-caa7-4cb7-bc1f-a1d0ab2e4a5c",
   "metadata": {},
   "outputs": [
    {
     "name": "stdout",
     "output_type": "stream",
     "text": [
      "+---+----------+------+---+----------------+--------+--------------+------------+\n",
      "|_c0|      Date|Gender|Age|Product Category|Quantity|Price per Unit|Total Amount|\n",
      "+---+----------+------+---+----------------+--------+--------------+------------+\n",
      "|  0|2023-11-24|  Male| 34|          Beauty|       3|            50|         150|\n",
      "|  1|2023-02-27|Female| 26|        Clothing|       2|           500|        1000|\n",
      "|  2|2023-01-13|  Male| 50|     Electronics|       1|            30|          30|\n",
      "|  3|2023-05-21|  Male| 37|        Clothing|       1|           500|         500|\n",
      "|  4|2023-05-06|  Male| 30|          Beauty|       2|            50|         100|\n",
      "|  5|2023-04-25|Female| 45|          Beauty|       1|            30|          30|\n",
      "|  6|2023-03-13|  Male| 46|        Clothing|       2|            25|          50|\n",
      "|  7|2023-02-22|  Male| 30|     Electronics|       4|            25|         100|\n",
      "|  8|2023-12-13|  Male| 63|     Electronics|       2|           300|         600|\n",
      "|  9|2023-10-07|Female| 52|        Clothing|       4|            50|         200|\n",
      "| 10|2023-02-14|  Male| 23|        Clothing|       2|            50|         100|\n",
      "| 11|2023-10-30|  Male| 35|          Beauty|       3|            25|          75|\n",
      "| 12|2023-08-05|  Male| 22|     Electronics|       3|           500|        1500|\n",
      "| 13|2023-01-17|  Male| 64|        Clothing|       4|            30|         120|\n",
      "| 14|2023-01-16|Female| 42|     Electronics|       4|           500|        2000|\n",
      "| 15|2023-02-17|  Male| 19|        Clothing|       3|           500|        1500|\n",
      "| 16|2023-04-22|Female| 27|        Clothing|       4|            25|         100|\n",
      "| 17|2023-04-30|Female| 47|     Electronics|       2|            25|          50|\n",
      "| 18|2023-09-16|Female| 62|        Clothing|       2|            25|          50|\n",
      "| 19|2023-11-05|  Male| 22|        Clothing|       3|           300|         900|\n",
      "+---+----------+------+---+----------------+--------+--------------+------------+\n",
      "only showing top 20 rows\n"
     ]
    }
   ],
   "source": [
    "from pyspark.sql import SparkSession\n",
    "\n",
    "spark = SparkSession.builder \\\n",
    "    .appName(\"Load CSV\") \\\n",
    "    .getOrCreate()\n",
    "\n",
    "df = spark.read.csv(r\"Downloads\\Sales Dataset.csv\", header=True, inferSchema=True)\n",
    "df.show()\n"
   ]
  },
  {
   "cell_type": "code",
   "execution_count": 14,
   "id": "de631812-5ffe-427e-8011-46bbbc3fc020",
   "metadata": {},
   "outputs": [],
   "source": [
    "import pandas as pd"
   ]
  },
  {
   "cell_type": "code",
   "execution_count": 20,
   "id": "949eefa6-8c2a-4008-bf70-dbf869ecbc7a",
   "metadata": {},
   "outputs": [
    {
     "data": {
      "text/plain": [
       "[Row(_c0=0, Date=datetime.date(2023, 11, 24), Gender='Male', Age=34, Product Category='Beauty', Quantity=3, Price per Unit=50, Total Amount=150),\n",
       " Row(_c0=1, Date=datetime.date(2023, 2, 27), Gender='Female', Age=26, Product Category='Clothing', Quantity=2, Price per Unit=500, Total Amount=1000),\n",
       " Row(_c0=2, Date=datetime.date(2023, 1, 13), Gender='Male', Age=50, Product Category='Electronics', Quantity=1, Price per Unit=30, Total Amount=30),\n",
       " Row(_c0=3, Date=datetime.date(2023, 5, 21), Gender='Male', Age=37, Product Category='Clothing', Quantity=1, Price per Unit=500, Total Amount=500),\n",
       " Row(_c0=4, Date=datetime.date(2023, 5, 6), Gender='Male', Age=30, Product Category='Beauty', Quantity=2, Price per Unit=50, Total Amount=100)]"
      ]
     },
     "execution_count": 20,
     "metadata": {},
     "output_type": "execute_result"
    }
   ],
   "source": [
    "df.take(5)"
   ]
  },
  {
   "cell_type": "code",
   "execution_count": 28,
   "id": "bf8e26de-9d05-42ea-b9d9-0111d6b3daea",
   "metadata": {},
   "outputs": [],
   "source": [
    "\n",
    "columns = [\"Product Category\", \"Total Amount\"]"
   ]
  },
  {
   "cell_type": "code",
   "execution_count": 33,
   "id": "128c7d4d-885e-48dc-b9d3-34d154e31bae",
   "metadata": {},
   "outputs": [],
   "source": [
    "from pyspark.sql.functions import sum"
   ]
  },
  {
   "cell_type": "code",
   "execution_count": 34,
   "id": "31f704c3-9049-4080-809b-dd465f7f8f65",
   "metadata": {},
   "outputs": [
    {
     "name": "stdout",
     "output_type": "stream",
     "text": [
      "+-------------+\n",
      "|Total Revenue|\n",
      "+-------------+\n",
      "|       456000|\n",
      "+-------------+\n",
      "\n"
     ]
    }
   ],
   "source": [
    "df.agg(sum(\"Total Amount\").alias(\"Total Revenue\")).show()"
   ]
  },
  {
   "cell_type": "code",
   "execution_count": 35,
   "id": "db5a0349-6232-4171-a2e4-b79ec57e5c56",
   "metadata": {},
   "outputs": [],
   "source": [
    "from pyspark.sql.functions import avg"
   ]
  },
  {
   "cell_type": "code",
   "execution_count": 36,
   "id": "b797a20e-8d21-4061-8162-b0d631e3fe90",
   "metadata": {},
   "outputs": [
    {
     "name": "stdout",
     "output_type": "stream",
     "text": [
      "+---------------------+\n",
      "|Avg Transaction Value|\n",
      "+---------------------+\n",
      "|                456.0|\n",
      "+---------------------+\n",
      "\n"
     ]
    }
   ],
   "source": [
    "df.agg(avg(\"Total Amount\").alias(\"Avg Transaction Value\")).show()"
   ]
  },
  {
   "cell_type": "code",
   "execution_count": 37,
   "id": "d762799f-bad5-460f-a002-1e82cb0e12ea",
   "metadata": {},
   "outputs": [
    {
     "name": "stdout",
     "output_type": "stream",
     "text": [
      "+------+-----------+\n",
      "|Gender|Total Spent|\n",
      "+------+-----------+\n",
      "|Female|     232840|\n",
      "|  Male|     223160|\n",
      "+------+-----------+\n",
      "\n"
     ]
    }
   ],
   "source": [
    "df.groupBy(\"Gender\") \\\n",
    "  .agg(sum(\"Total Amount\").alias(\"Total Spent\")) \\\n",
    "  .orderBy(\"Total Spent\", ascending=False) \\\n",
    "  .show()"
   ]
  },
  {
   "cell_type": "code",
   "execution_count": 38,
   "id": "663da29c-7e83-4576-9a6f-85c79c887d4c",
   "metadata": {},
   "outputs": [
    {
     "name": "stdout",
     "output_type": "stream",
     "text": [
      "+---------+-----------+\n",
      "|Age Group|Total Spent|\n",
      "+---------+-----------+\n",
      "|    40-59|     191705|\n",
      "|    25-39|     144830|\n",
      "|      <25|      74650|\n",
      "|      60+|      44815|\n",
      "+---------+-----------+\n",
      "\n"
     ]
    }
   ],
   "source": [
    "from pyspark.sql.functions import when\n",
    "\n",
    "df = df.withColumn(\n",
    "    \"Age Group\",\n",
    "    when(df.Age < 25, \"<25\")\n",
    "    .when((df.Age >= 25) & (df.Age < 40), \"25-39\")\n",
    "    .when((df.Age >= 40) & (df.Age < 60), \"40-59\")\n",
    "    .otherwise(\"60+\")\n",
    ")\n",
    "\n",
    "df.groupBy(\"Age Group\") \\\n",
    "  .agg(sum(\"Total Amount\").alias(\"Total Spent\")) \\\n",
    "  .orderBy(\"Total Spent\", ascending=False) \\\n",
    "  .show()\n"
   ]
  },
  {
   "cell_type": "code",
   "execution_count": 39,
   "id": "e3cb668f-7f0b-416a-acda-9c47aeaedc99",
   "metadata": {},
   "outputs": [
    {
     "name": "stdout",
     "output_type": "stream",
     "text": [
      "+----------------+-----------------+\n",
      "|Product Category|Transaction Count|\n",
      "+----------------+-----------------+\n",
      "|        Clothing|              351|\n",
      "|     Electronics|              342|\n",
      "|          Beauty|              307|\n",
      "+----------------+-----------------+\n",
      "\n"
     ]
    }
   ],
   "source": [
    "from pyspark.sql.functions import count\n",
    "\n",
    "df.groupBy(\"Product Category\") \\\n",
    "  .agg(count(\"*\").alias(\"Transaction Count\")) \\\n",
    "  .orderBy(\"Transaction Count\", ascending=False) \\\n",
    "  .show()\n"
   ]
  },
  {
   "cell_type": "code",
   "execution_count": 40,
   "id": "ddb553ed-8e1b-4b3e-89e2-c30ad76b207a",
   "metadata": {},
   "outputs": [
    {
     "name": "stdout",
     "output_type": "stream",
     "text": [
      "+-----+-------------+\n",
      "|Month|Monthly Sales|\n",
      "+-----+-------------+\n",
      "|    1|        36980|\n",
      "|    2|        44060|\n",
      "|    3|        28990|\n",
      "|    4|        33870|\n",
      "|    5|        53150|\n",
      "|    6|        36715|\n",
      "|    7|        35465|\n",
      "|    8|        36960|\n",
      "|    9|        23620|\n",
      "|   10|        46580|\n",
      "|   11|        34920|\n",
      "|   12|        44690|\n",
      "+-----+-------------+\n",
      "\n"
     ]
    }
   ],
   "source": [
    "from pyspark.sql.functions import month\n",
    "\n",
    "df = df.withColumn(\"Month\", month(\"Date\"))\n",
    "\n",
    "df.groupBy(\"Month\") \\\n",
    "  .agg(sum(\"Total Amount\").alias(\"Monthly Sales\")) \\\n",
    "  .orderBy(\"Month\") \\\n",
    "  .show()\n"
   ]
  },
  {
   "cell_type": "code",
   "execution_count": null,
   "id": "e9ddfe1c-eeb5-46ef-b1ad-8b033831aae9",
   "metadata": {},
   "outputs": [],
   "source": []
  }
 ],
 "metadata": {
  "kernelspec": {
   "display_name": "Python 3 (ipykernel)",
   "language": "python",
   "name": "python3"
  },
  "language_info": {
   "codemirror_mode": {
    "name": "ipython",
    "version": 3
   },
   "file_extension": ".py",
   "mimetype": "text/x-python",
   "name": "python",
   "nbconvert_exporter": "python",
   "pygments_lexer": "ipython3",
   "version": "3.12.7"
  }
 },
 "nbformat": 4,
 "nbformat_minor": 5
}
